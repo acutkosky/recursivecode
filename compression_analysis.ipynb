{
 "cells": [
  {
   "cell_type": "markdown",
   "metadata": {},
   "source": [
    "# Hierarchical Compression Analysis\n",
    "\n",
    "This notebook demonstrates how hierarchical compression can achieve better compression ratios through repeated compression, even when compared to single compression with larger vocabularies.\n",
    "\n",
    "We call the compression \"HierarchicalLZCoder\". Probably there is a better name.\n",
    "\n",
    "We compare a bit with an \"LZ\" coder, which is just:\n",
    "1. maintain a dictionary of prefixes.\n",
    "2. look in the input for the shortest prefix that is NOT in the dictionary.\n",
    "3. Add that prefix to the dictionary if the dictionary is less than the maximum dictionary size.\n",
    "4. Output the index of the longest matching prefix (which might be the one just added), and remove it from the input stream.\n",
    "\n",
    "Our approach just maintains a bunch of these LZ coder things in parallel, one for each possible output symbol. There is one other trick: when choosing which output symbol to associate with a newly-added prefix in one of the LZ coders, we ask all the *other* LZ coders that are not currently active what their best matching symbol is, and we choose the most popular available option.\n",
    "\n",
    "\n",
    "### If you just want to see the plot, skip to the end\n"
   ]
  },
  {
   "cell_type": "code",
   "execution_count": 1,
   "metadata": {},
   "outputs": [],
   "source": [
    "from hlz import LZCoder, HierarchicalLZCoder, ensure_list\n",
    "import math\n",
    "import matplotlib.pyplot as plt\n",
    "import numpy as np"
   ]
  },
  {
   "cell_type": "code",
   "execution_count": null,
   "metadata": {},
   "outputs": [],
   "source": []
  },
  {
   "cell_type": "markdown",
   "metadata": {},
   "source": [
    "## Load Test Text\n",
    "\n",
    "First, let's load our test text that we'll use for compression analysis. (I asked some LLM to write something for me...)"
   ]
  },
  {
   "cell_type": "code",
   "execution_count": 2,
   "metadata": {},
   "outputs": [
    {
     "name": "stdout",
     "output_type": "stream",
     "text": [
      "Text length: 148461 characters\n",
      "\n",
      "First 200 characters:\n",
      "ALICE'S ADVENTURES IN WONDERLAND\n",
      "\n",
      "                          Lewis Carroll\n",
      "\n",
      "               THE MILLENNIUM FULCRUM EDITION 2.9\n",
      "\n",
      "\n",
      "\n",
      "\n",
      "                            CHAPTER I\n",
      "\n",
      "                      Down the Rabbit-Hole\n",
      "\n",
      "\n",
      "  Alice was beginning to get very tired of sitting by her sister\n",
      "on the bank, and of having nothing to do:  once or twice she had\n",
      "peeped into the book her sister was reading, but it had n...\n",
      "total unique chars:  73\n"
     ]
    }
   ],
   "source": [
    "with open('alice29.txt', 'r') as f:\n",
    "    test_text = f.read().strip()\n",
    "\n",
    "print(f\"Text length: {len(test_text)} characters\")\n",
    "print(\"\\nFirst 200 characters:\")\n",
    "print(test_text[:400] + \"...\")\n",
    "print(\"total unique chars: \",len(set(test_text)))"
   ]
  },
  {
   "cell_type": "markdown",
   "metadata": {},
   "source": [
    "## Initial Compression\n",
    "\n",
    "Let's perform the first level of compression using our hierarchical encoder."
   ]
  },
  {
   "cell_type": "code",
   "execution_count": 3,
   "metadata": {},
   "outputs": [
    {
     "name": "stdout",
     "output_type": "stream",
     "text": [
      "Original text length (bits): 921861.66\n",
      "First compression length (bits): 689056.83\n",
      "Compression ratio: 1.34x\n",
      "\n",
      "First level vocabulary size: 73\n",
      "First level encoded vocabulary size: 74\n"
     ]
    }
   ],
   "source": [
    "# Convert text to list of bytes\n",
    "to_encode_list = ensure_list(test_text)\n",
    "input_vocab = set(to_encode_list)\n",
    "\n",
    "# Create and apply first level compression\n",
    "coder = HierarchicalLZCoder(output_vocab_size=len(input_vocab), input_vocab=input_vocab)\n",
    "encoded = coder.encode(to_encode_list, learn=True)\n",
    "\n",
    "# Calculate bit length\n",
    "encoded_length = len(encoded) * math.log(len(input_vocab)+1, 2)\n",
    "original_length = len(to_encode_list) * math.log(len(set(encoded)), 2)\n",
    "\n",
    "print(f\"Original text length (bits): {original_length:.2f}\")\n",
    "print(f\"First compression length (bits): {encoded_length:.2f}\")\n",
    "print(f\"Compression ratio: {original_length/encoded_length:.2f}x\")\n",
    "print(f\"\\nFirst level vocabulary size: {len(input_vocab)}\")\n",
    "print(f\"First level encoded vocabulary size: {len(set(encoded))}\")"
   ]
  },
  {
   "cell_type": "markdown",
   "metadata": {},
   "source": [
    "## Second Level Compression\n",
    "\n",
    "Now let's compress the already compressed data with a larger vocabulary."
   ]
  },
  {
   "cell_type": "code",
   "execution_count": 9,
   "metadata": {},
   "outputs": [
    {
     "name": "stdout",
     "output_type": "stream",
     "text": [
      "Second compression length (bits): 535453.77\n",
      "Total compression ratio: 1.72x\n",
      "\n",
      "Second level vocabulary size: 74\n",
      "Second level encoded vocabulary size: 223\n"
     ]
    }
   ],
   "source": [
    "# Get vocabulary from first compression\n",
    "encoded_vocab = set(encoded)\n",
    "\n",
    "# Create and apply second level compression\n",
    "second_coder = HierarchicalLZCoder(output_vocab_size=3*len(encoded_vocab), input_vocab=encoded_vocab)\n",
    "second_encoded = second_coder.encode(encoded, learn=True)\n",
    "\n",
    "# Calculate bit length\n",
    "second_encoded_length = len(second_encoded) * math.log(len(set(second_encoded)), 2)\n",
    "\n",
    "print(f\"Second compression length (bits): {second_encoded_length:.2f}\")\n",
    "print(f\"Total compression ratio: {original_length/second_encoded_length:.2f}x\")\n",
    "# print(f\"\\nSecond level vocabulary size: {len(encoded_vocab)}\")\n",
    "print(f\"Second level encoded vocabulary size: {len(set(second_encoded))}\")"
   ]
  },
  {
   "cell_type": "markdown",
   "metadata": {},
   "source": [
    "## Third Level"
   ]
  },
  {
   "cell_type": "code",
   "execution_count": null,
   "metadata": {},
   "outputs": [],
   "source": [
    "# Get vocabulary from second compression\n",
    "second_encoded_vocab = set(second_encoded)\n",
    "\n",
    "# Create and apply second level compression\n",
    "third_coder = HierarchicalLZCoder(output_vocab_size=len(second_encoded_vocab), input_vocab=second_encoded_vocab)\n",
    "third_encoded = second_coder.encode(second_encoded, learn=True)\n",
    "\n",
    "# Calculate bit length\n",
    "third_encoded_length = len(third_encoded) * math.log(len(set(third_encoded)), 2)\n",
    "\n",
    "print(f\"Second compression length (bits): {third_encoded_length:.2f}\")\n",
    "print(f\"Total compression ratio: {original_length/third_encoded_length:.2f}x\")\n",
    "# print(f\"\\nSecond level vocabulary size: {len(second_encoded_vocab)}\")\n",
    "print(f\"Second level encoded vocabulary size: {len(set(third_encoded))}\")"
   ]
  },
  {
   "cell_type": "markdown",
   "metadata": {},
   "source": [
    "## Comparison with Single Compression\n",
    "\n",
    "Let's compare our results with a single compression using a larger vocabulary."
   ]
  },
  {
   "cell_type": "code",
   "execution_count": 10,
   "metadata": {},
   "outputs": [
    {
     "name": "stdout",
     "output_type": "stream",
     "text": [
      "Single compression with double vocabulary (bits): 672139.81\n",
      "LZ compression with 10x vocabulary (bits): 668033.16\n",
      "\n",
      "Double compression (bits): 535453.77\n"
     ]
    }
   ],
   "source": [
    "# Try single compression with double vocabulary\n",
    "double_vocab_size = HierarchicalLZCoder(output_vocab_size=2*len(input_vocab), input_vocab=input_vocab)\n",
    "double_vocab_size_encoded = double_vocab_size.encode(to_encode_list, learn=True)\n",
    "double_vocab_size_encoded_length = len(double_vocab_size_encoded) * math.log(len(set(double_vocab_size_encoded)), 2)\n",
    "\n",
    "# Try LZ compression with large vocabulary\n",
    "lz_coder = LZCoder(output_vocab_size=10*len(input_vocab)+1, input_vocab=input_vocab)\n",
    "lz_encoded = lz_coder.encode(test_text, learn=True)\n",
    "lz_encoded_length = len(lz_encoded) * math.log(len(set(lz_encoded)), 2)\n",
    "\n",
    "print(f\"Single compression with double vocabulary (bits): {double_vocab_size_encoded_length:.2f}\")\n",
    "print(f\"LZ compression with 10x vocabulary (bits): {lz_encoded_length:.2f}\")\n",
    "print(f\"\\nDouble compression (bits): {second_encoded_length:.2f}\")"
   ]
  },
  {
   "cell_type": "markdown",
   "metadata": {},
   "source": [
    "## Unconstrained LZ Compression\n",
    "\n",
    "Let's see how the basic LZ coder performs when we don't limit its vocabulary size."
   ]
  },
  {
   "cell_type": "code",
   "execution_count": 11,
   "metadata": {},
   "outputs": [
    {
     "name": "stdout",
     "output_type": "stream",
     "text": [
      "Unlimited LZ compression length (bits): 424328.98\n",
      "Compression ratio: 2.17x\n",
      "\n",
      "Unlimited LZ vocabulary size: 28658\n"
     ]
    }
   ],
   "source": [
    "# Create LZ coder with unlimited vocabulary\n",
    "unlimited_lz_coder = LZCoder(output_vocab_size=1000000, input_vocab=input_vocab)\n",
    "unlimited_lz_encoded = unlimited_lz_coder.encode(test_text, learn=True)\n",
    "unlimited_lz_encoded_length = len(unlimited_lz_encoded) * math.log(len(set(unlimited_lz_encoded)), 2)\n",
    "\n",
    "print(f\"Unlimited LZ compression length (bits): {unlimited_lz_encoded_length:.2f}\")\n",
    "print(f\"Compression ratio: {original_length/unlimited_lz_encoded_length:.2f}x\")\n",
    "print(f\"\\nUnlimited LZ vocabulary size: {len(set(unlimited_lz_encoded))}\")"
   ]
  },
  {
   "cell_type": "markdown",
   "metadata": {},
   "source": [
    "## Hierarchical Compression with Larger First Level\n",
    "\n",
    "Let's try hierarchical compression starting with a larger vocabulary in the first level."
   ]
  },
  {
   "cell_type": "code",
   "execution_count": 13,
   "metadata": {},
   "outputs": [
    {
     "name": "stdout",
     "output_type": "stream",
     "text": [
      "First level with double vocabulary (bits): 672139.81\n",
      "Second level compression (bits): 544594.02\n",
      "Total compression ratio: 1.69x\n",
      "\n",
      "First level vocabulary size: 147\n",
      "Second level vocabulary size: 220\n",
      "two input vocab 146\n"
     ]
    }
   ],
   "source": [
    "# Create first level coder with double vocabulary\n",
    "# double_first_coder = HierarchicalLZCoder(output_vocab_size=2*len(input_vocab), input_vocab=input_vocab)\n",
    "# double_first_encoded = double_first_coder.encode(to_encode_list, learn=True)\n",
    "# double_first_encoded_length = len(double_first_encoded) * math.log(len(set(double_first_encoded)), 2)\n",
    "\n",
    "# Get vocabulary from first compression\n",
    "double_vocab_size_vocab = set(double_vocab_size_encoded)\n",
    "\n",
    "# Create and apply second level compression\n",
    "double_second_coder = HierarchicalLZCoder(output_vocab_size=3*len(input_vocab), input_vocab=double_vocab_size_vocab)\n",
    "double_second_encoded = double_second_coder.encode(double_vocab_size_encoded, learn=True)\n",
    "double_second_encoded_length = len(double_second_encoded) * math.log(len(set(double_second_encoded)), 2)\n",
    "\n",
    "print(f\"First level with double vocabulary (bits): {double_vocab_size_encoded_length:.2f}\")\n",
    "print(f\"Second level compression (bits): {double_second_encoded_length:.2f}\")\n",
    "print(f\"Total compression ratio: {original_length/double_second_encoded_length:.2f}x\")\n",
    "print(f\"\\nFirst level vocabulary size: {len(double_vocab_size_vocab)}\")\n",
    "print(f\"Second level vocabulary size: {len(set(double_second_encoded))}\")"
   ]
  },
  {
   "cell_type": "markdown",
   "metadata": {},
   "source": [
    "## LZ First Level with Hierarchical Second Level\n",
    "\n",
    "Let's explore using LZ compression for the first level, followed by hierarchical compression."
   ]
  },
  {
   "cell_type": "code",
   "execution_count": 14,
   "metadata": {},
   "outputs": [
    {
     "name": "stdout",
     "output_type": "stream",
     "text": [
      "LZ first level compression (bits): 668033.16\n",
      "Hierarchical second level (bits): 426104.49\n",
      "Total compression ratio: 2.16x\n",
      "\n",
      "LZ first level vocabulary size: 729\n",
      "Second level vocabulary size: 729\n"
     ]
    }
   ],
   "source": [
    "# First level LZ compression\n",
    "lz_first_coder = LZCoder(output_vocab_size=10*len(input_vocab)+1, input_vocab=input_vocab)\n",
    "lz_first_encoded = lz_first_coder.encode(to_encode_list, learn=True)\n",
    "lz_first_encoded_length = len(lz_first_encoded) * math.log(len(set(lz_first_encoded)), 2)\n",
    "\n",
    "# Get vocabulary from LZ compression\n",
    "lz_first_vocab = set(lz_first_encoded)\n",
    "\n",
    "# Create and apply hierarchical second level compression\n",
    "hlz_second_coder = HierarchicalLZCoder(output_vocab_size=max(3*len(input_vocab), len(lz_first_vocab)), input_vocab=lz_first_vocab)\n",
    "hlz_second_encoded = hlz_second_coder.encode(lz_first_encoded, learn=True)\n",
    "hlz_second_encoded_length = len(hlz_second_encoded) * math.log(len(set(hlz_second_encoded)), 2)\n",
    "\n",
    "print(f\"LZ first level compression (bits): {lz_first_encoded_length:.2f}\")\n",
    "print(f\"Hierarchical second level (bits): {hlz_second_encoded_length:.2f}\")\n",
    "print(f\"Total compression ratio: {original_length/hlz_second_encoded_length:.2f}x\")\n",
    "print(f\"\\nLZ first level vocabulary size: {len(lz_first_vocab)}\")\n",
    "print(f\"Second level vocabulary size: {len(set(hlz_second_encoded))}\")"
   ]
  },
  {
   "cell_type": "markdown",
   "metadata": {},
   "source": [
    "## LZ First Level with LZ Second Level"
   ]
  },
  {
   "cell_type": "code",
   "execution_count": 17,
   "metadata": {},
   "outputs": [
    {
     "name": "stdout",
     "output_type": "stream",
     "text": [
      "LZ first level compression (bits): 668033.16\n",
      "Hierarchical second level (bits): 668033.16\n",
      "Total compression ratio: 1.38x\n",
      "\n",
      "LZ first level vocabulary size: 729\n",
      "Second level vocabulary size: 729\n"
     ]
    }
   ],
   "source": [
    "lz_second_coder = LZCoder(output_vocab_size=max(3*len(input_vocab), len(lz_first_vocab)), input_vocab=lz_first_vocab)\n",
    "lz_second_encoded = lz_second_coder.encode(lz_first_encoded, learn=True)\n",
    "lz_second_encoded_length = len(lz_second_encoded) * math.log(len(set(lz_second_encoded)), 2)\n",
    "\n",
    "print(f\"LZ first level compression (bits): {lz_first_encoded_length:.2f}\")\n",
    "print(f\"Hierarchical second level (bits): {lz_second_encoded_length:.2f}\")\n",
    "print(f\"Total compression ratio: {original_length/lz_second_encoded_length:.2f}x\")\n",
    "print(f\"\\nLZ first level vocabulary size: {len(lz_first_vocab)}\")\n",
    "print(f\"Second level vocabulary size: {len(set(lz_second_encoded))}\")"
   ]
  },
  {
   "cell_type": "code",
   "execution_count": 15,
   "metadata": {},
   "outputs": [
    {
     "name": "stdout",
     "output_type": "stream",
     "text": [
      "LZ first level compression (bits): 915409.69\n",
      "Hierarchical second level (bits): 534766.16\n",
      "Total compression ratio: 1.72x\n",
      "\n",
      "LZ first level vocabulary size: 145\n",
      "Second level vocabulary size: 220\n"
     ]
    }
   ],
   "source": [
    "# First level LZ compression 2x vocab\n",
    "lz_first_coder_2x = LZCoder(output_vocab_size=2*len(input_vocab)+1, input_vocab=input_vocab)\n",
    "lz_first_encoded_2x = lz_first_coder_2x.encode(test_text, learn=True)\n",
    "lz_first_encoded_length_2x = len(lz_first_encoded_2x) * math.log(len(set(lz_first_encoded_2x)), 2)\n",
    "\n",
    "# Get vocabulary from LZ compression\n",
    "lz_first_vocab_2x = set(lz_first_encoded_2x)\n",
    "\n",
    "# Create and apply hierarchical second level compression, keep vocab the same, so still 2x\n",
    "lz_second_coder_2x = HierarchicalLZCoder(output_vocab_size=3*len(input_vocab), input_vocab=lz_first_vocab_2x)\n",
    "lz_second_encoded_2x = lz_second_coder_2x.encode(lz_first_encoded_2x, learn=True)\n",
    "lz_second_encoded_length_2x = len(lz_second_encoded_2x) * math.log(len(set(lz_second_encoded_2x)), 2)\n",
    "\n",
    "print(f\"LZ first level compression (bits): {lz_first_encoded_length_2x:.2f}\")\n",
    "print(f\"Hierarchical second level (bits): {lz_second_encoded_length_2x:.2f}\")\n",
    "print(f\"Total compression ratio: {original_length/lz_second_encoded_length_2x:.2f}x\")\n",
    "print(f\"\\nLZ first level vocabulary size: {len(lz_first_vocab_2x)}\")\n",
    "print(f\"Second level vocabulary size: {len(set(lz_second_encoded_2x))}\")"
   ]
  },
  {
   "cell_type": "markdown",
   "metadata": {},
   "source": [
    "## Visualization\n",
    "\n",
    "Let's make a visualization of all compression methods."
   ]
  },
  {
   "cell_type": "code",
   "execution_count": 16,
   "metadata": {},
   "outputs": [
    {
     "name": "stdout",
     "output_type": "stream",
     "text": [
      "Plot Legend Info: N x vocab indicates that the encoding dictionary has size ~N x the input alphabet.\n",
      "                  A + B indicates we first compress with method A, then apply method B\n",
      "                  HLZ is the 'hierarchical' method, LZ is the regular method\n"
     ]
    },
    {
     "data": {
      "image/png": "[encoded data removed]",
      "text/plain": [
       "<Figure size 1500x700 with 1 Axes>"
      ]
     },
     "metadata": {},
     "output_type": "display_data"
    },
    {
     "name": "stdout",
     "output_type": "stream",
     "text": [
      "\n",
      "Compression Ratios:\n",
      "Original Text: 1.00x\n",
      "LZ unlimited vocab: 2.17x\n",
      "HLZ 1x vocab: 1.34x\n",
      "HLZ 1x vocab + HLZ 2x vocab: 1.72x\n",
      "HLZ 2x vocab: 1.37x\n",
      "HLZ 2x vocab + HLZ 2x vocab: 1.69x\n",
      "LZ 2x Vocab: 1.01x\n",
      "LZ 2x vocab + HLZ 2x vocab: 1.72x\n"
     ]
    }
   ],
   "source": [
    "# Prepare data for plotting\n",
    "from collections import OrderedDict\n",
    "\n",
    "methods_and_lengths = OrderedDict([\n",
    "    ('Original Text', original_length),\n",
    "    ('LZ unlimited vocab', unlimited_lz_encoded_length),\n",
    "    ('HLZ 1x vocab', encoded_length),\n",
    "    ('HLZ 1x vocab + HLZ 2x vocab', second_encoded_length),\n",
    "    ('HLZ 2x vocab', double_vocab_size_encoded_length),\n",
    "    ('HLZ 2x vocab + HLZ 2x vocab', double_second_encoded_length),\n",
    "    # ('LZ 10x Vocab', lz_encoded_length),\n",
    "    # ('LZ 10x vocab + HLZ 10x vocab', lz_second_encoded_length),\n",
    "    ('LZ 2x Vocab', lz_first_encoded_length_2x),\n",
    "    ('LZ 2x vocab + HLZ 2x vocab', lz_second_encoded_length_2x),\n",
    "])\n",
    "\n",
    "methods = methods_and_lengths.keys()\n",
    "bit_lengths = methods_and_lengths.values()\n",
    "\n",
    "# Create bar plot\n",
    "plt.figure(figsize=(15, 7))\n",
    "bars = plt.bar(methods, bit_lengths)\n",
    "plt.title('Compression Comparison (Bit Length)')\n",
    "plt.ylabel('Bits')\n",
    "plt.xticks(rotation=45)\n",
    "\n",
    "# Add value labels on top of bars\n",
    "for bar in bars:\n",
    "    height = bar.get_height()\n",
    "    plt.text(bar.get_x() + bar.get_width()/2., height,\n",
    "             f'{height:.0f}',\n",
    "             ha='center', va='bottom')\n",
    "\n",
    "plt.tight_layout()\n",
    "print(\"Plot Legend Info: N x vocab indicates that the encoding dictionary has size ~N x the input alphabet.\")\n",
    "print(\"                  A + B indicates we first compress with method A, then apply method B\")\n",
    "print(\"                  HLZ is the 'hierarchical' method, LZ is the regular method\")\n",
    "plt.show()\n",
    "\n",
    "# Calculate and display compression ratios\n",
    "ratios = [original_length/l for l in bit_lengths]\n",
    "print(\"\\nCompression Ratios:\")\n",
    "for method, ratio in zip(methods, ratios):\n",
    "    print(f\"{method}: {ratio:.2f}x\")"
   ]
  },
  {
   "cell_type": "markdown",
   "metadata": {},
   "source": [
    "## Extended Analysis\n",
    "\n",
    "The additional experiments reveal:\n",
    "1. Even with an unlimited vocabulary, the basic LZ coder doesn't achieve the same compression as hierarchical methods\n",
    "2. Starting with a larger vocabulary in the first level of hierarchical compression seems worse (which makes sense: it probably takes more data to find statistics with a larger vocabulary)\n",
    "3. Using LZ compression as the first level followed by hierarchical compression seeems slightly worse\n",
    "4. The hierarchical approach seems to possibly work when composed with itself, but not with LZ."
   ]
  },
  {
   "cell_type": "code",
   "execution_count": null,
   "metadata": {},
   "outputs": [],
   "source": []
  },
  {
   "cell_type": "code",
   "execution_count": null,
   "metadata": {},
   "outputs": [],
   "source": []
  }
 ],
 "metadata": {
  "kernelspec": {
   "display_name": "Python 3 (ipykernel)",
   "language": "python",
   "name": "python3"
  },
  "language_info": {
   "codemirror_mode": {
    "name": "ipython",
    "version": 3
   },
   "file_extension": ".py",
   "mimetype": "text/x-python",
   "name": "python",
   "nbconvert_exporter": "python",
   "pygments_lexer": "ipython3",
   "version": "3.12.4"
  }
 },
 "nbformat": 4,
 "nbformat_minor": 4
}
